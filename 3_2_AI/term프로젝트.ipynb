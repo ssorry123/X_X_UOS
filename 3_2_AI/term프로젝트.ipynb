{
  "nbformat": 4,
  "nbformat_minor": 0,
  "metadata": {
    "colab": {
      "name": "과제텐서플로를이용한다층CNN구현.ipynb",
      "provenance": [],
      "collapsed_sections": []
    },
    "kernelspec": {
      "name": "python3",
      "display_name": "Python 3"
    },
    "accelerator": "GPU"
  },
  "cells": [
    {
      "cell_type": "code",
      "metadata": {
        "id": "VPawoF1hOE5t",
        "colab_type": "code",
        "outputId": "c67418ba-bf2f-4f0a-9039-0566a3c1af66",
        "colab": {
          "base_uri": "https://localhost:8080/",
          "height": 606
        }
      },
      "source": [
        "import tensorflow as tf\n",
        "import numpy as np\n",
        "import matplotlib.pyplot as plt\n",
        "from tensorflow.examples.tutorials.mnist import input_data\n",
        "\n",
        "np.random.seed(20160704)\n",
        "tf.set_random_seed(20160704)\n",
        "\n",
        "mnist=input_data.read_data_sets(\"/tmp/data/\", one_hot=True)\n"
      ],
      "execution_count": 1,
      "outputs": [
        {
          "output_type": "display_data",
          "data": {
            "text/html": [
              "<p style=\"color: red;\">\n",
              "The default version of TensorFlow in Colab will soon switch to TensorFlow 2.x.<br>\n",
              "We recommend you <a href=\"https://www.tensorflow.org/guide/migrate\" target=\"_blank\">upgrade</a> now \n",
              "or ensure your notebook will continue to use TensorFlow 1.x via the <code>%tensorflow_version 1.x</code> magic:\n",
              "<a href=\"https://colab.research.google.com/notebooks/tensorflow_version.ipynb\" target=\"_blank\">more info</a>.</p>\n"
            ],
            "text/plain": [
              "<IPython.core.display.HTML object>"
            ]
          },
          "metadata": {
            "tags": []
          }
        },
        {
          "output_type": "stream",
          "text": [
            "WARNING:tensorflow:From <ipython-input-1-286794024e10>:9: read_data_sets (from tensorflow.contrib.learn.python.learn.datasets.mnist) is deprecated and will be removed in a future version.\n",
            "Instructions for updating:\n",
            "Please use alternatives such as official/mnist/dataset.py from tensorflow/models.\n",
            "WARNING:tensorflow:From /usr/local/lib/python3.6/dist-packages/tensorflow_core/contrib/learn/python/learn/datasets/mnist.py:260: maybe_download (from tensorflow.contrib.learn.python.learn.datasets.base) is deprecated and will be removed in a future version.\n",
            "Instructions for updating:\n",
            "Please write your own downloading logic.\n",
            "WARNING:tensorflow:From /usr/local/lib/python3.6/dist-packages/tensorflow_core/contrib/learn/python/learn/datasets/base.py:252: _internal_retry.<locals>.wrap.<locals>.wrapped_fn (from tensorflow.contrib.learn.python.learn.datasets.base) is deprecated and will be removed in a future version.\n",
            "Instructions for updating:\n",
            "Please use urllib or similar directly.\n",
            "Successfully downloaded train-images-idx3-ubyte.gz 9912422 bytes.\n",
            "WARNING:tensorflow:From /usr/local/lib/python3.6/dist-packages/tensorflow_core/contrib/learn/python/learn/datasets/mnist.py:262: extract_images (from tensorflow.contrib.learn.python.learn.datasets.mnist) is deprecated and will be removed in a future version.\n",
            "Instructions for updating:\n",
            "Please use tf.data to implement this functionality.\n",
            "Extracting /tmp/data/train-images-idx3-ubyte.gz\n",
            "Successfully downloaded train-labels-idx1-ubyte.gz 28881 bytes.\n",
            "WARNING:tensorflow:From /usr/local/lib/python3.6/dist-packages/tensorflow_core/contrib/learn/python/learn/datasets/mnist.py:267: extract_labels (from tensorflow.contrib.learn.python.learn.datasets.mnist) is deprecated and will be removed in a future version.\n",
            "Instructions for updating:\n",
            "Please use tf.data to implement this functionality.\n",
            "Extracting /tmp/data/train-labels-idx1-ubyte.gz\n",
            "WARNING:tensorflow:From /usr/local/lib/python3.6/dist-packages/tensorflow_core/contrib/learn/python/learn/datasets/mnist.py:110: dense_to_one_hot (from tensorflow.contrib.learn.python.learn.datasets.mnist) is deprecated and will be removed in a future version.\n",
            "Instructions for updating:\n",
            "Please use tf.one_hot on tensors.\n",
            "Successfully downloaded t10k-images-idx3-ubyte.gz 1648877 bytes.\n",
            "Extracting /tmp/data/t10k-images-idx3-ubyte.gz\n",
            "Successfully downloaded t10k-labels-idx1-ubyte.gz 4542 bytes.\n",
            "Extracting /tmp/data/t10k-labels-idx1-ubyte.gz\n",
            "WARNING:tensorflow:From /usr/local/lib/python3.6/dist-packages/tensorflow_core/contrib/learn/python/learn/datasets/mnist.py:290: DataSet.__init__ (from tensorflow.contrib.learn.python.learn.datasets.mnist) is deprecated and will be removed in a future version.\n",
            "Instructions for updating:\n",
            "Please use alternatives such as official/mnist/dataset.py from tensorflow/models.\n"
          ],
          "name": "stdout"
        }
      ]
    },
    {
      "cell_type": "code",
      "metadata": {
        "id": "sgl22tp6OZWa",
        "colab_type": "code",
        "colab": {}
      },
      "source": [
        "x = tf.placeholder(tf.float32, [None,784])\n",
        "x_image = tf.reshape(x,[-1,28,28,1])\n",
        "\n",
        "\n",
        "num_filters1 = 32\n",
        "\n",
        "# 필터크기는 3x3\n",
        "W_conv1 = tf.Variable(tf.truncated_normal([3,3,1,num_filters1],\n",
        "                                         stddev=0.1))\n",
        "\n",
        "# 절댓값을 취하지 않는다. 픽셀의 농도의 의미는 사라지지만\n",
        "# 이미지의 특징을 추출한 데이터로써는 의미가 있다.\n",
        "h_conv1 = tf.nn.conv2d(x_image, W_conv1,\n",
        "                      strides=[1,1,1,1],padding='SAME')\n",
        "\n",
        "# 바이어스 설정\n",
        "b_conv1 = tf.Variable(tf.constant(0.1, shape=[num_filters1]))\n",
        "\n",
        "# 임계값 설정, 임계값도 학습\n",
        "h_conv1_cutoff=tf.nn.relu(h_conv1 + b_conv1)\n",
        "\n",
        "# 풀링계층에서 절반으로 줄인다\n",
        "h_pool1 = tf.nn.max_pool(h_conv1_cutoff, ksize=[1,2,2,1],\n",
        "                        strides=[1,2,2,1], padding='SAME')"
      ],
      "execution_count": 0,
      "outputs": []
    },
    {
      "cell_type": "code",
      "metadata": {
        "id": "-2hsZKcZPgo1",
        "colab_type": "code",
        "colab": {}
      },
      "source": [
        "#두번째 단계 합성곱필터와 풀링계층 정의\n",
        "\n",
        "num_filters2 = 64\n",
        "\n",
        "# 필터크기는 3x3\n",
        "W_conv2 = tf.Variable(tf.truncated_normal([3,3,num_filters1,num_filters2],\n",
        "                                         stddev=0.1))\n",
        "\n",
        "# 1번 풀링계층에서 나온 것을 받아들인다.\n",
        "h_conv2 = tf.nn.conv2d(h_pool1, W_conv2,\n",
        "                      strides=[1,1,1,1],padding='SAME')\n",
        "\n",
        "# 바이어스 설정\n",
        "b_conv2 = tf.Variable(tf.constant(0.1, shape=[num_filters2]))\n",
        "\n",
        "# 임계값 설정, 임계값도 학습\n",
        "h_conv2_cutoff=tf.nn.relu(h_conv2 + b_conv2)\n",
        "\n",
        "# 풀링계층에서 절반으로 줄인다\n",
        "h_pool2 = tf.nn.max_pool(h_conv2_cutoff, ksize=[1,2,2,1],\n",
        "                        strides=[1,2,2,1], padding='SAME')"
      ],
      "execution_count": 0,
      "outputs": []
    },
    {
      "cell_type": "code",
      "metadata": {
        "id": "2d4EV2NLXeog",
        "colab_type": "code",
        "colab": {}
      },
      "source": [
        "#세번째 단계 합성곱필터와 풀링계층 정의\n",
        "\n",
        "# 3x3x64x128\n",
        "num_filters3 = 128\n",
        "\n",
        "# 필터크기는 3x3\n",
        "W_conv3 = tf.Variable(tf.truncated_normal([3,3,num_filters2,num_filters3],\n",
        "                                         stddev=0.1))\n",
        "\n",
        "# 1번 풀링계층에서 나온 것을 받아들인다.\n",
        "h_conv3 = tf.nn.conv2d(h_pool2, W_conv3,\n",
        "                      strides=[1,1,1,1],padding='SAME')\n",
        "\n",
        "# 바이어스 설정\n",
        "b_conv3 = tf.Variable(tf.constant(0.1, shape=[num_filters3]))\n",
        "\n",
        "# 임계값 설정, 임계값도 학습\n",
        "h_conv3_cutoff=tf.nn.relu(h_conv3 + b_conv3)\n",
        "\n",
        "# 풀링계층에서 절반으로 줄인다\n",
        "h_pool3 = tf.nn.max_pool(h_conv3_cutoff, ksize=[1,2,2,1],\n",
        "                        strides=[1,2,2,1], padding='SAME')"
      ],
      "execution_count": 0,
      "outputs": []
    },
    {
      "cell_type": "code",
      "metadata": {
        "id": "ltE6gVRWamqn",
        "colab_type": "code",
        "colab": {}
      },
      "source": [
        "#4번째 단계 합성곱필터와 풀링계층 정의\n",
        "\n",
        "# 3x3x128x256\n",
        "num_filters4 = 256\n",
        "\n",
        "# 필터크기는 3x3\n",
        "W_conv4 = tf.Variable(tf.truncated_normal([3,3,num_filters3,num_filters4],\n",
        "                                         stddev=0.1))\n",
        "\n",
        "# 1번 풀링계층에서 나온 것을 받아들인다.\n",
        "h_conv4 = tf.nn.conv2d(h_pool3, W_conv4,\n",
        "                      strides=[1,1,1,1],padding='SAME')\n",
        "\n",
        "# 바이어스 설정\n",
        "b_conv4 = tf.Variable(tf.constant(0.1, shape=[num_filters4]))\n",
        "\n",
        "# 임계값 설정, 임계값도 학습\n",
        "h_conv4_cutoff=tf.nn.relu(h_conv4 + b_conv4)\n",
        "\n",
        "# 풀링계층에서 절반으로 줄인다\n",
        "h_pool4 = tf.nn.max_pool(h_conv4_cutoff, ksize=[1,2,2,1],\n",
        "                        strides=[1,2,2,1], padding='SAME')"
      ],
      "execution_count": 0,
      "outputs": []
    },
    {
      "cell_type": "code",
      "metadata": {
        "id": "1FPJcyrdrmbr",
        "colab_type": "code",
        "colab": {}
      },
      "source": [
        "#5번째 단계 합성곱필터와 풀링계층 정의\n",
        "\n",
        "# 3x3x256x512\n",
        "#num_filters5 = 512\n",
        "\n",
        "# 필터크기는 3x3\n",
        "#W_conv5 = tf.Variable(tf.truncated_normal([3,3,num_filters4,num_filters5],\n",
        "#                                         stddev=0.1))\n",
        "\n",
        "# 1번 풀링계층에서 나온 것을 받아들인다.\n",
        "#h_conv5 = tf.nn.conv2d(h_pool4, W_conv5,\n",
        "#                      strides=[1,1,1,1],padding='SAME')\n",
        "\n",
        "# 바이어스 설정\n",
        "#b_conv5 = tf.Variable(tf.constant(0.1, shape=[num_filters5]))\n",
        "\n",
        "# 임계값 설정, 임계값도 학습\n",
        "#h_conv5_cutoff=tf.nn.relu(h_conv5 + b_conv5)\n",
        "\n",
        "# 풀링계층에서 절반으로 줄인다\n",
        "#h_pool5 = tf.nn.max_pool(h_conv5_cutoff, ksize=[1,2,2,1],\n",
        "#                        strides=[1,2,2,1], padding='SAME')"
      ],
      "execution_count": 0,
      "outputs": []
    },
    {
      "cell_type": "code",
      "metadata": {
        "id": "7uwbuErZQMnf",
        "colab_type": "code",
        "outputId": "dc4a7244-3ca8-4a98-fe67-0ed783fc786c",
        "colab": {
          "base_uri": "https://localhost:8080/",
          "height": 89
        }
      },
      "source": [
        "# 전결합층, 드롭아웃 계층, 소프트맥수 함수 정의\n",
        "\n",
        "# 전결합층\n",
        "k_k_filters = 2*2*num_filters4\n",
        "\n",
        "h_pool4_flat = tf.reshape(h_pool4, [-1,k_k_filters])\n",
        "num_units1 = k_k_filters\n",
        "num_units2 = 1024\n",
        "w2 = tf.Variable(tf.truncated_normal([num_units1, num_units2]))\n",
        "b2 = tf.Variable(tf.constant(0.1, shape=[num_units2]))\n",
        "hidden2 = tf.nn.relu(tf.matmul(h_pool4_flat, w2)+b2)\n",
        "#hidden2 = tf.nn.elu(tf.matmul(h_pool4_flat, w2)+b2)\n",
        "\n",
        "#드롭아웃 계층\n",
        "keep_prob = tf.placeholder(tf.float32)\n",
        "hidden2_drop=tf.nn.dropout(hidden2, keep_prob)\n",
        "\n",
        "# 소프트맥수 함수\n",
        "w0 = tf.Variable(tf.zeros([num_units2, 10]))\n",
        "b0 = tf.Variable(tf.zeros([10]))\n",
        "p = tf.nn.softmax(tf.matmul(hidden2_drop, w0)+b0)\n",
        "\n"
      ],
      "execution_count": 7,
      "outputs": [
        {
          "output_type": "stream",
          "text": [
            "WARNING:tensorflow:From <ipython-input-7-3b79b09b5f70>:13: calling dropout (from tensorflow.python.ops.nn_ops) with keep_prob is deprecated and will be removed in a future version.\n",
            "Instructions for updating:\n",
            "Please use `rate` instead of `keep_prob`. Rate should be set to `rate = 1 - keep_prob`.\n"
          ],
          "name": "stdout"
        }
      ]
    },
    {
      "cell_type": "code",
      "metadata": {
        "id": "KHUnvAJdROl9",
        "colab_type": "code",
        "colab": {}
      },
      "source": [
        "# 오차함수, 트레이닝 알고리즘, 정답률 정의\n",
        "t = tf.placeholder(tf.float32, [None, 10])\n",
        "loss = -tf.reduce_sum(t*tf.log(p))\n",
        "train_step=tf.train.AdamOptimizer(0.0001).minimize(loss)\n",
        "correct_prediction = tf.equal(tf.argmax(p,1), tf.argmax(t,1))\n",
        "accuracy = tf.reduce_mean(tf.cast(correct_prediction, tf.float32))\n",
        "\n",
        "sess = tf.InteractiveSession()\n",
        "sess.run(tf.global_variables_initializer())\n",
        "saver=tf.train.Saver()"
      ],
      "execution_count": 0,
      "outputs": []
    },
    {
      "cell_type": "code",
      "metadata": {
        "id": "b-omxtHcS3za",
        "colab_type": "code",
        "outputId": "810637c0-6292-4543-a7f8-2d5faeda2584",
        "colab": {
          "base_uri": "https://localhost:8080/",
          "height": 787
        }
      },
      "source": [
        "i=0\n",
        "for _ in range(20000):\n",
        "  i+=1\n",
        "  batch_xs, batch_ts = mnist.train.next_batch(50)\n",
        "  sess.run(train_step, feed_dict={\n",
        "      x:batch_xs, t:batch_ts, keep_prob:0.5\n",
        "  })\n",
        "\n",
        "  if i%500 == 0:\n",
        "    loss_vals, acc_vals = [], []\n",
        "    for c in range(4):\n",
        "      start=int(len(mnist.test.labels)/4*c)\n",
        "      end=int(len(mnist.test.labels)/4*(c+1))\n",
        "      loss_val, acc_val = sess.run([loss, accuracy],\n",
        "                                   feed_dict={x:mnist.test.images[start:end],\n",
        "                                              t:mnist.test.labels[start:end],\n",
        "                                              keep_prob:1.0})\n",
        "      loss_vals.append(loss_val)\n",
        "      acc_vals.append(acc_val)\n",
        "\n",
        "    loss_val=np.sum(loss_vals)\n",
        "    acc_val =np.mean(acc_vals)\n",
        "    print('Step: %d, Loss: %f, Accuracy: %f' % (i, loss_val, acc_val))\n",
        "    saver.save(sess,'cnn_session', global_step=i)"
      ],
      "execution_count": 9,
      "outputs": [
        {
          "output_type": "stream",
          "text": [
            "Step: 500, Loss: 1598.552490, Accuracy: 0.950500\n",
            "Step: 1000, Loss: 925.867493, Accuracy: 0.972800\n",
            "Step: 1500, Loss: 869.503418, Accuracy: 0.969800\n",
            "Step: 2000, Loss: 602.885132, Accuracy: 0.981200\n",
            "Step: 2500, Loss: 555.276001, Accuracy: 0.981700\n",
            "Step: 3000, Loss: 565.828003, Accuracy: 0.981400\n",
            "WARNING:tensorflow:From /usr/local/lib/python3.6/dist-packages/tensorflow_core/python/training/saver.py:963: remove_checkpoint (from tensorflow.python.training.checkpoint_management) is deprecated and will be removed in a future version.\n",
            "Instructions for updating:\n",
            "Use standard file APIs to delete files with this prefix.\n",
            "Step: 3500, Loss: 468.206360, Accuracy: 0.985000\n",
            "Step: 4000, Loss: 510.078857, Accuracy: 0.982500\n",
            "Step: 4500, Loss: 514.610901, Accuracy: 0.982800\n",
            "Step: 5000, Loss: 421.516205, Accuracy: 0.986600\n",
            "Step: 5500, Loss: 521.572571, Accuracy: 0.982800\n",
            "Step: 6000, Loss: 387.750793, Accuracy: 0.988100\n",
            "Step: 6500, Loss: 349.658325, Accuracy: 0.988700\n",
            "Step: 7000, Loss: 391.418457, Accuracy: 0.987100\n",
            "Step: 7500, Loss: 419.562988, Accuracy: 0.986500\n",
            "Step: 8000, Loss: 405.609406, Accuracy: 0.986900\n",
            "Step: 8500, Loss: 423.500793, Accuracy: 0.986100\n",
            "Step: 9000, Loss: 349.964630, Accuracy: 0.989200\n",
            "Step: 9500, Loss: 349.321045, Accuracy: 0.989500\n",
            "Step: 10000, Loss: 354.359344, Accuracy: 0.989400\n",
            "Step: 10500, Loss: 337.857178, Accuracy: 0.988700\n",
            "Step: 11000, Loss: 304.860016, Accuracy: 0.990400\n",
            "Step: 11500, Loss: 298.546082, Accuracy: 0.991300\n",
            "Step: 12000, Loss: 347.857635, Accuracy: 0.988900\n",
            "Step: 12500, Loss: 357.491058, Accuracy: 0.988900\n",
            "Step: 13000, Loss: 309.836456, Accuracy: 0.991100\n",
            "Step: 13500, Loss: 413.793945, Accuracy: 0.987900\n",
            "Step: 14000, Loss: 341.083313, Accuracy: 0.990200\n",
            "Step: 14500, Loss: 323.734650, Accuracy: 0.989800\n",
            "Step: 15000, Loss: 367.563507, Accuracy: 0.988500\n",
            "Step: 15500, Loss: 323.004639, Accuracy: 0.990100\n",
            "Step: 16000, Loss: 338.684723, Accuracy: 0.990000\n",
            "Step: 16500, Loss: 301.442993, Accuracy: 0.990400\n",
            "Step: 17000, Loss: 373.401154, Accuracy: 0.989200\n",
            "Step: 17500, Loss: 319.278839, Accuracy: 0.990500\n",
            "Step: 18000, Loss: 309.319366, Accuracy: 0.991100\n",
            "Step: 18500, Loss: 343.931580, Accuracy: 0.989900\n",
            "Step: 19000, Loss: 394.350677, Accuracy: 0.990500\n",
            "Step: 19500, Loss: 310.455994, Accuracy: 0.991800\n",
            "Step: 20000, Loss: 322.715668, Accuracy: 0.989400\n"
          ],
          "name": "stdout"
        }
      ]
    },
    {
      "cell_type": "code",
      "metadata": {
        "id": "n0kHJtZkU-un",
        "colab_type": "code",
        "outputId": "b180248a-facf-4c05-d0e3-abd57eeaead7",
        "colab": {
          "base_uri": "https://localhost:8080/",
          "height": 489
        }
      },
      "source": [
        "# 두번째 단계의 필터를 적용한 이미지 출력\n",
        "conv2_vals, cutoff2_vals = sess.run(\n",
        "    [h_conv2, h_conv2_cutoff], feed_dict={x:batch_xs,keep_prob:1.0}\n",
        ")\n",
        "fig=plt.figure(figsize=(16,8))\n",
        "\n",
        "for f in range(num_filters2):\n",
        "  subplot=fig.add_subplot(8,16,f+1)\n",
        "  subplot.set_xticks([])\n",
        "  subplot.set_yticks([])\n",
        "  subplot.imshow(conv2_vals[0,:,:,f],\n",
        "                 cmap=plt.cm.gray_r, interpolation='nearest')\n",
        "  \n",
        "for f in range(num_filters2):\n",
        "  subplot=fig.add_subplot(8,16,num_filters2 +f+1)\n",
        "  subplot.set_xticks([])\n",
        "  subplot.set_yticks([])\n",
        "  subplot.imshow(cutoff2_vals[0,:,:,f],\n",
        "                 cmap=plt.cm.gray_r, interpolation='nearest')"
      ],
      "execution_count": 10,
      "outputs": [
        {
          "output_type": "display_data",
          "data": {
            "image/png": "[encoded data removed]",
            "text/plain": [
              "<Figure size 1152x576 with 128 Axes>"
            ]
          },
          "metadata": {
            "tags": []
          }
        }
      ]
    },
    {
      "cell_type": "code",
      "metadata": {
        "id": "lLbQt1OXWV-y",
        "colab_type": "code",
        "colab": {}
      },
      "source": [
        ""
      ],
      "execution_count": 0,
      "outputs": []
    }
  ]
}
