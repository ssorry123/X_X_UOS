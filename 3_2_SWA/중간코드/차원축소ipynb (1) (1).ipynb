{
  "nbformat": 4,
  "nbformat_minor": 0,
  "metadata": {
    "kernelspec": {
      "name": "python3",
      "display_name": "Python 3"
    },
    "language_info": {
      "codemirror_mode": {
        "name": "ipython",
        "version": 3
      },
      "file_extension": ".py",
      "mimetype": "text/x-python",
      "name": "python",
      "nbconvert_exporter": "python",
      "pygments_lexer": "ipython3",
      "version": "3.7.3"
    },
    "colab": {
      "name": "차원축소ipynb.ipynb",
      "provenance": [],
      "collapsed_sections": []
    },
    "accelerator": "GPU"
  },
  "cells": [
    {
      "cell_type": "code",
      "metadata": {
        "id": "Ad7mUBBlWyxk",
        "colab_type": "code",
        "colab": {}
      },
      "source": [
        "import pandas as pd\n",
        "\n",
        "data = pd.read_csv('bbb.csv', encoding='euc-kr')"
      ],
      "execution_count": 0,
      "outputs": []
    },
    {
      "cell_type": "code",
      "metadata": {
        "id": "dIS-8dDFWyxs",
        "colab_type": "code",
        "colab": {}
      },
      "source": [
        "    #csv를 지번코드로 인덱스해보자\n",
        "indices = pd.Series(data.index, index = data['지번코드']).drop_duplicates()\n",
        "    # index 앞과 뒤를 봐보자\n",
        "indices.head()\n",
        "indices.tail()\n",
        "\n",
        "    #scv를 유사도 계산할때 필요한 부분만 잘라보자\n",
        "#sliceData = data.iloc[:,26:50]\n",
        "sliceData = data.iloc[:,2:26]"
      ],
      "execution_count": 0,
      "outputs": []
    },
    {
      "cell_type": "code",
      "metadata": {
        "id": "Aq299iHFWyx2",
        "colab_type": "code",
        "outputId": "5153212e-8921-413e-abe8-9b565e71d4ef",
        "colab": {
          "base_uri": "https://localhost:8080/",
          "height": 139
        }
      },
      "source": [
        "from sklearn.decomposition import PCA\n",
        "import numpy as np\n",
        "pca = PCA(n_components = 2)\n",
        "X2D = pca.fit_transform(sliceData)\n",
        "X2D"
      ],
      "execution_count": 0,
      "outputs": [
        {
          "output_type": "execute_result",
          "data": {
            "text/plain": [
              "array([[386.08041237, -25.7550849 ],\n",
              "       [428.56803769, -28.09248213],\n",
              "       [184.44199635, -10.23562681],\n",
              "       ...,\n",
              "       [ -7.93627931,   0.51966701],\n",
              "       [ -8.6383594 ,   0.74458523],\n",
              "       [ -8.20248876,   0.60820676]])"
            ]
          },
          "metadata": {
            "tags": []
          },
          "execution_count": 4
        }
      ]
    },
    {
      "cell_type": "code",
      "metadata": {
        "id": "xRWutsg1XieC",
        "colab_type": "code",
        "outputId": "73cd77a6-092d-4611-b262-52059610cc88",
        "colab": {
          "base_uri": "https://localhost:8080/",
          "height": 34
        }
      },
      "source": [
        "X2D.shape"
      ],
      "execution_count": 0,
      "outputs": [
        {
          "output_type": "execute_result",
          "data": {
            "text/plain": [
              "(16686, 2)"
            ]
          },
          "metadata": {
            "tags": []
          },
          "execution_count": 8
        }
      ]
    },
    {
      "cell_type": "code",
      "metadata": {
        "id": "XqDksR4rWyx5",
        "colab_type": "code",
        "outputId": "411dc778-0b67-46d5-c143-0f367fea2b32",
        "colab": {}
      },
      "source": [
        "print(pca.explained_variance_ratio_)"
      ],
      "execution_count": 0,
      "outputs": [
        {
          "output_type": "stream",
          "text": [
            "[0.94920899 0.04463744]\n"
          ],
          "name": "stdout"
        }
      ]
    },
    {
      "cell_type": "code",
      "metadata": {
        "id": "CXl67QqKWyx8",
        "colab_type": "code",
        "colab": {}
      },
      "source": [
        "pca = PCA() #주성분 개수 지정하지 않고 클래스생성\n",
        "pca.fit(sliceData)  #주성분 분석\n",
        "cumsum = np.cumsum(pca.explained_variance_ratio_) #분산의 설명량을 누적합\n",
        "num_d = np.argmax(cumsum >= 0.95) + 1 # 분산의 설명량이 95%이상 되는 차원의 수"
      ],
      "execution_count": 0,
      "outputs": []
    },
    {
      "cell_type": "code",
      "metadata": {
        "id": "wrrlxvtPWyx-",
        "colab_type": "code",
        "outputId": "961603e6-09e0-4c98-b814-5de857bbdd66",
        "colab": {
          "base_uri": "https://localhost:8080/",
          "height": 34
        }
      },
      "source": [
        "num_d"
      ],
      "execution_count": 0,
      "outputs": [
        {
          "output_type": "execute_result",
          "data": {
            "text/plain": [
              "1"
            ]
          },
          "metadata": {
            "tags": []
          },
          "execution_count": 10
        }
      ]
    },
    {
      "cell_type": "code",
      "metadata": {
        "id": "tTEI9GHLWyyA",
        "colab_type": "code",
        "outputId": "2d796d7c-9c32-4ade-8340-4a3b73da9a56",
        "colab": {
          "base_uri": "https://localhost:8080/",
          "height": 404
        }
      },
      "source": [
        "pca = PCA(n_components=0.95) #95%이상의 분산을 설명력을 갖는 차원축소\n",
        "new_d = pca.fit_transform(sliceData)\n",
        "\n",
        "#pd.DataFrame(new_d)"
      ],
      "execution_count": 0,
      "outputs": [
        {
          "output_type": "execute_result",
          "data": {
            "text/html": [
              "<div>\n",
              "<style scoped>\n",
              "    .dataframe tbody tr th:only-of-type {\n",
              "        vertical-align: middle;\n",
              "    }\n",
              "\n",
              "    .dataframe tbody tr th {\n",
              "        vertical-align: top;\n",
              "    }\n",
              "\n",
              "    .dataframe thead th {\n",
              "        text-align: right;\n",
              "    }\n",
              "</style>\n",
              "<table border=\"1\" class=\"dataframe\">\n",
              "  <thead>\n",
              "    <tr style=\"text-align: right;\">\n",
              "      <th></th>\n",
              "      <th>0</th>\n",
              "    </tr>\n",
              "  </thead>\n",
              "  <tbody>\n",
              "    <tr>\n",
              "      <th>0</th>\n",
              "      <td>386.080412</td>\n",
              "    </tr>\n",
              "    <tr>\n",
              "      <th>1</th>\n",
              "      <td>428.568038</td>\n",
              "    </tr>\n",
              "    <tr>\n",
              "      <th>2</th>\n",
              "      <td>184.441996</td>\n",
              "    </tr>\n",
              "    <tr>\n",
              "      <th>3</th>\n",
              "      <td>400.555990</td>\n",
              "    </tr>\n",
              "    <tr>\n",
              "      <th>4</th>\n",
              "      <td>199.094055</td>\n",
              "    </tr>\n",
              "    <tr>\n",
              "      <th>...</th>\n",
              "      <td>...</td>\n",
              "    </tr>\n",
              "    <tr>\n",
              "      <th>16681</th>\n",
              "      <td>-8.371120</td>\n",
              "    </tr>\n",
              "    <tr>\n",
              "      <th>16682</th>\n",
              "      <td>-8.482143</td>\n",
              "    </tr>\n",
              "    <tr>\n",
              "      <th>16683</th>\n",
              "      <td>-7.936279</td>\n",
              "    </tr>\n",
              "    <tr>\n",
              "      <th>16684</th>\n",
              "      <td>-8.638359</td>\n",
              "    </tr>\n",
              "    <tr>\n",
              "      <th>16685</th>\n",
              "      <td>-8.202489</td>\n",
              "    </tr>\n",
              "  </tbody>\n",
              "</table>\n",
              "<p>16686 rows × 1 columns</p>\n",
              "</div>"
            ],
            "text/plain": [
              "                0\n",
              "0      386.080412\n",
              "1      428.568038\n",
              "2      184.441996\n",
              "3      400.555990\n",
              "4      199.094055\n",
              "...           ...\n",
              "16681   -8.371120\n",
              "16682   -8.482143\n",
              "16683   -7.936279\n",
              "16684   -8.638359\n",
              "16685   -8.202489\n",
              "\n",
              "[16686 rows x 1 columns]"
            ]
          },
          "metadata": {
            "tags": []
          },
          "execution_count": 12
        }
      ]
    },
    {
      "cell_type": "code",
      "metadata": {
        "id": "ZhDh5Vagefdz",
        "colab_type": "code",
        "outputId": "673a842c-ce8d-4b3e-a151-5e1feb0b39d6",
        "colab": {
          "base_uri": "https://localhost:8080/",
          "height": 139
        }
      },
      "source": [
        "matrix=np.matrix(X2D)\n",
        "matrix"
      ],
      "execution_count": 0,
      "outputs": [
        {
          "output_type": "execute_result",
          "data": {
            "text/plain": [
              "matrix([[386.08041237, -25.7550849 ],\n",
              "        [428.56803769, -28.09248213],\n",
              "        [184.44199635, -10.23562681],\n",
              "        ...,\n",
              "        [ -7.93627931,   0.51966701],\n",
              "        [ -8.6383594 ,   0.74458523],\n",
              "        [ -8.20248876,   0.60820676]])"
            ]
          },
          "metadata": {
            "tags": []
          },
          "execution_count": 7
        }
      ]
    },
    {
      "cell_type": "code",
      "metadata": {
        "id": "NOA6AxIHWyyD",
        "colab_type": "code",
        "outputId": "2dbf63e9-0fc2-4a17-fa7d-03f61c6271bc",
        "colab": {
          "base_uri": "https://localhost:8080/",
          "height": 334
        }
      },
      "source": [
        "matrix=np.matrix(X2D)\n",
        "matrix\n",
        "#DBSCAN 클러스터\n",
        "import numpy as np\n",
        "from sklearn.cluster import SpectralClustering\n",
        "from sklearn.cluster import DBSCAN\n",
        "\n",
        "ret = DBSCAN(min_samples=20).fit_predict(matrix)\n",
        "\n",
        "# 클러스터 번호 최소와 최대 저장\n",
        "MAX=ret.max(); MIN = ret.min()\n",
        "print(MAX, MIN)\n",
        "# 각 클러스터들에 얼마나 있는지 세기\n",
        "t=np.array(ret.shape)\n",
        "n=t[0]\n",
        "for i in range(MIN,MAX+1):\n",
        "  a = (ret==i).sum()\n",
        "  if a!=0 and a>50:\n",
        "    print(\"%d %d\"%(i,a))\n",
        "    \n",
        "# 클러스터 그림으로 확인하기\n",
        "#클러스터 확인하기\n",
        "import matplotlib.pyplot as plt\n",
        "plt.scatter(range(0,n),ret,s=1)"
      ],
      "execution_count": 0,
      "outputs": [
        {
          "output_type": "stream",
          "text": [
            "0 -1\n",
            "-1 1337\n",
            "0 15349\n"
          ],
          "name": "stdout"
        },
        {
          "output_type": "execute_result",
          "data": {
            "text/plain": [
              "<matplotlib.collections.PathCollection at 0x7f818525b630>"
            ]
          },
          "metadata": {
            "tags": []
          },
          "execution_count": 19
        },
        {
          "output_type": "display_data",
          "data": {
            "image/png": "[encoded data removed]",
            "text/plain": [
              "<Figure size 432x288 with 1 Axes>"
            ]
          },
          "metadata": {
            "tags": []
          }
        }
      ]
    },
    {
      "cell_type": "code",
      "metadata": {
        "id": "zeuknIyUWyyG",
        "colab_type": "code",
        "outputId": "5c2ebb64-1983-4acb-ad55-73d566c7e0b5",
        "colab": {
          "base_uri": "https://localhost:8080/",
          "height": 334
        }
      },
      "source": [
        "pca = PCA(n_components=0.95) #95%이상의 분산을 설명력을 갖는 차원축소\n",
        "new_d = pca.fit_transform(sliceData)\n",
        "\n",
        "#pd.DataFrame(new_d)\n",
        "matrix=np.matrix(new_d)\n",
        "#DBSCAN 클러스터\n",
        "import numpy as np\n",
        "from sklearn.cluster import SpectralClustering\n",
        "from sklearn.cluster import DBSCAN\n",
        "\n",
        "ret = DBSCAN(min_samples=20).fit_predict(matrix)\n",
        "\n",
        "# 클러스터 번호 최소와 최대 저장\n",
        "MAX=ret.max(); MIN = ret.min()\n",
        "print(MAX, MIN)\n",
        "# 각 클러스터들에 얼마나 있는지 세기\n",
        "t=np.array(ret.shape)\n",
        "n=t[0]\n",
        "for i in range(MIN,MAX+1):\n",
        "  a = (ret==i).sum()\n",
        "  if a!=0 and a>50:\n",
        "    print(\"%d %d\"%(i,a))\n",
        "    \n",
        "# 클러스터 그림으로 확인하기\n",
        "#클러스터 확인하기\n",
        "import matplotlib.pyplot as plt\n",
        "plt.scatter(range(0,n),ret,s=1)"
      ],
      "execution_count": 0,
      "outputs": [
        {
          "output_type": "stream",
          "text": [
            "3 -1\n",
            "-1 705\n",
            "0 15888\n"
          ],
          "name": "stdout"
        },
        {
          "output_type": "execute_result",
          "data": {
            "text/plain": [
              "<matplotlib.collections.PathCollection at 0x7f81852a7eb8>"
            ]
          },
          "metadata": {
            "tags": []
          },
          "execution_count": 17
        },
        {
          "output_type": "display_data",
          "data": {
            "image/png": "[encoded data removed]",
            "text/plain": [
              "<Figure size 432x288 with 1 Axes>"
            ]
          },
          "metadata": {
            "tags": []
          }
        }
      ]
    },
    {
      "cell_type": "code",
      "metadata": {
        "id": "lgkDRqQ-WyyI",
        "colab_type": "code",
        "colab": {}
      },
      "source": [
        ""
      ],
      "execution_count": 0,
      "outputs": []
    }
  ]
}